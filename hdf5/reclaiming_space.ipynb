{
 "cells": [
  {
   "cell_type": "markdown",
   "metadata": {},
   "source": [
    "<h2>Freeing Space in HDF5</h2>\n",
    "<h4>Using Pandas PyTables</h4>\n",
    "    \n",
    "A SO [question](http://stackoverflow.com/questions/1124994/removing-data-from-a-hdf5-file) in 2009 was followed by <a href=\"http://stackoverflow.com/questions/11194927/deleting-information-from-an-hdf5-file\">another</a> in 2012 on this issue. \n",
    "    \n",
    "The HDF5 docs referenced in the latter question still state that space is not freed upon object/node removal. This code snippet just confirms that.\n",
    "\n",
    "A later follow-up was posted on SO [here](http://stackoverflow.com/questions/21090243/release-hdf5-disk-memory-after-table-or-node-removal-with-pytables-or-pandas) where the mechanism to reclaim this space is used directly here.\n",
    " "
   ]
  },
  {
   "cell_type": "code",
   "execution_count": 152,
   "metadata": {
    "collapsed": false
   },
   "outputs": [
    {
     "name": "stdout",
     "output_type": "stream",
     "text": [
      "keys: /test/small_df\n",
      "Size of test.h5 is 0.01MiB\n",
      "keys: /test/small_df,/test/n1/large_df,/test/n2/large_df,/test/n3/large_df\n",
      "Size of test.h5 is 229.38MiB\n",
      "keys: /test/small_df\n",
      "Size of test.h5 is 153.01MiB\n"
     ]
    }
   ],
   "source": [
    "import pandas as pd\n",
    "import os\n",
    "import numpy as np\n",
    "\n",
    "\n",
    "small_df = pd.DataFrame([[1,2,3], [3,2,1]])\n",
    "large_df = pd.DataFrame(np.random.randint(9,size=(1000,10000)))\n",
    "filename = 'test.h5'\n",
    "\n",
    "with pd.HDFStore(filename, mode='w') as store:\n",
    "    store.put('test/small_df', small_df)\n",
    "    print('keys: %s' % ', '.join(store.keys()))\n",
    "    \n",
    "print('Size of %s is %.2fMiB' % (filename, float(os.stat(filename).st_size)/1024**2))\n",
    "\n",
    "with pd.HDFStore(filename, mode='a') as store:\n",
    "    store.put('test/n1/large_df', large_df)\n",
    "    store.put('test/n2/large_df', large_df)\n",
    "    store.put('test/n3/large_df', large_df)\n",
    "    print('keys: %s' % ','.join(store.keys()))\n",
    "    \n",
    "print('Size of %s is %.2fMiB' % (filename, float(os.stat(filename).st_size)/1024**2))\n",
    "\n",
    "with pd.HDFStore(filename, mode='a') as store:\n",
    "    for i in range(1,4):\n",
    "        store.remove('test/n%s/large_df' % i)\n",
    "    print('keys: %s' % ','.join(store.keys()))\n",
    "    \n",
    "print('Size of %s is %.2fMiB' % (filename, float(os.stat(filename).st_size)/1024**2))\n",
    "\n"
   ]
  },
  {
   "cell_type": "markdown",
   "metadata": {
    "collapsed": true
   },
   "source": [
    "<h4>Reclaiming space</h4>\n",
    "We are using the `ptrepack` commandline instruction to 'repackage' the hdf5 file"
   ]
  },
  {
   "cell_type": "code",
   "execution_count": 153,
   "metadata": {
    "collapsed": false
   },
   "outputs": [
    {
     "name": "stdout",
     "output_type": "stream",
     "text": [
      "Size of test.h5 is 153.01MiB\n",
      "Size of test.h5 is 0.01MiB\n"
     ]
    }
   ],
   "source": [
    "from subprocess import call\n",
    "outfilename = 'out.h5'\n",
    "command = [\"ptrepack\", \"-o\", \"--chunkshape=auto\", \"--propindexes\", \"--complevel=9\", \n",
    "           \"--complib=blosc\",filename, outfilename]\n",
    "print('Size of %s is %.2fMiB' % (filename, float(os.stat(filename).st_size)/1024**2))\n",
    "if call(command) != 0:\n",
    "    print('Error')\n",
    "else:\n",
    "    print('Size of %s is %.2fMiB' % (filename, float(os.stat(outfilename).st_size)/1024**2))\n"
   ]
  }
 ],
 "metadata": {
  "kernelspec": {
   "display_name": "python2sklearn",
   "language": "python",
   "name": "python2sklearn"
  },
  "language_info": {
   "codemirror_mode": {
    "name": "ipython",
    "version": 2
   },
   "file_extension": ".py",
   "mimetype": "text/x-python",
   "name": "python",
   "nbconvert_exporter": "python",
   "pygments_lexer": "ipython2",
   "version": "2.7.12+"
  }
 },
 "nbformat": 4,
 "nbformat_minor": 1
}
