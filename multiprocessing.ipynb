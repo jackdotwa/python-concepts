{
 "cells": [
  {
   "cell_type": "markdown",
   "metadata": {},
   "source": [
    "### Multiprocessing over Pandas Dataframe Columns\n",
    "\n",
    "<br>\n",
    "\n",
    "#### Objective:\n",
    "Iterate over pandas dataframe and perform column-wise operations in separate processes that honour shared _write-on-copy_ (due to _fork()_) memory\n",
    "\n",
    "#### Steps:\n",
    "  * Monitor used and available memory\n",
    "  * Allocate large dataframe\n",
    "  * Do row counts in multiple processes on columns of that dataframe\n"
   ]
  },
  {
   "cell_type": "code",
   "execution_count": 1,
   "metadata": {},
   "outputs": [],
   "source": [
    "import multiprocessing\n",
    "from functools import partial\n",
    "import numpy as np\n",
    "import pandas as pd\n",
    "import time\n",
    "import psutil"
   ]
  },
  {
   "cell_type": "markdown",
   "metadata": {},
   "source": [
    "System memory checkin"
   ]
  },
  {
   "cell_type": "code",
   "execution_count": 2,
   "metadata": {},
   "outputs": [
    {
     "name": "stdout",
     "output_type": "stream",
     "text": [
      "used: 46.5% free: 7.66GB\n"
     ]
    }
   ],
   "source": [
    "print('used: {}% free: {:.2f}GB'.format(psutil.virtual_memory().percent, float(psutil.virtual_memory().free)/1024**3))"
   ]
  },
  {
   "cell_type": "markdown",
   "metadata": {},
   "source": [
    "Allocation of a reasonably large frame (for `cols=6` and `rows=10^8` this results in `4.47GB` of data)"
   ]
  },
  {
   "cell_type": "code",
   "execution_count": 3,
   "metadata": {},
   "outputs": [
    {
     "name": "stdout",
     "output_type": "stream",
     "text": [
      "4.47GB\n"
     ]
    }
   ],
   "source": [
    "cols = 6\n",
    "columns = ['a', 'b', 'c', 'd', 'e', 'f', 'g', 'h', 'i', 'j']\n",
    "rows = 10**8\n",
    "df = pd.DataFrame(np.random.randn(rows,cols), columns=columns[0:cols])\n",
    "print('{0:.2f}GB'.format(float(df.memory_usage(index=True).sum())/1024**3))"
   ]
  },
  {
   "cell_type": "code",
   "execution_count": 4,
   "metadata": {},
   "outputs": [
    {
     "name": "stdout",
     "output_type": "stream",
     "text": [
      "used: 74.2% free: 3.46GB\n"
     ]
    }
   ],
   "source": [
    "# Another memory check-in\n",
    "print('used: {}% free: {:.2f}GB'.format(psutil.virtual_memory().percent, float(psutil.virtual_memory().free)/1024**3))"
   ]
  },
  {
   "cell_type": "markdown",
   "metadata": {},
   "source": [
    "Perform multiprocessing across each of the columns"
   ]
  },
  {
   "cell_type": "code",
   "execution_count": 6,
   "metadata": {},
   "outputs": [],
   "source": [
    "from multiprocessing import Pool, cpu_count\n",
    "\n",
    "def parallelise_cols(func, df, num_processes=None):\n",
    "    if num_processes==None:\n",
    "        num_processes = min(df.shape[1], cpu_count())\n",
    "\n",
    "    with Pool(num_processes) as pool:\n",
    "        results_list = pool.map(func, df.iteritems())\n",
    "\n",
    "def action(data):\n",
    "    print('name: {}; row.count: {}; used: {}% free: {:.2f}GB'.format(data[0], \n",
    "                                                                     len(data[1].index),\n",
    "                                                                     psutil.virtual_memory().percent, \n",
    "                                                                     float(psutil.virtual_memory().free)/1024**3))\n",
    "    time.sleep(2)\n",
    "    print('done sleeping {}'.format(multiprocessing.current_process()))\n",
    "    return None"
   ]
  },
  {
   "cell_type": "code",
   "execution_count": 7,
   "metadata": {},
   "outputs": [
    {
     "name": "stdout",
     "output_type": "stream",
     "text": [
      "name: a; row.count: 100000000; used: 85.5% free: 1.74GB\n",
      "done sleeping <ForkProcess(ForkPoolWorker-1, started daemon)>\n",
      "name: b; row.count: 100000000; used: 85.7% free: 1.71GB\n",
      "done sleeping <ForkProcess(ForkPoolWorker-2, started daemon)>\n",
      "name: c; row.count: 100000000; used: 83.2% free: 2.09GB\n",
      "done sleeping <ForkProcess(ForkPoolWorker-1, started daemon)>\n",
      "name: d; row.count: 100000000; used: 84.3% free: 1.92GB\n",
      "done sleeping <ForkProcess(ForkPoolWorker-2, started daemon)>\n",
      "name: e; row.count: 100000000; used: 90.7% free: 0.96GB\n",
      "done sleeping <ForkProcess(ForkPoolWorker-1, started daemon)>\n",
      "name: f; row.count: 100000000; used: 79.2% free: 2.69GB\n",
      "done sleeping <ForkProcess(ForkPoolWorker-2, started daemon)>\n"
     ]
    }
   ],
   "source": [
    "parallelise_cols(action, df, num_processes=2)\n"
   ]
  },
  {
   "cell_type": "code",
   "execution_count": 8,
   "metadata": {},
   "outputs": [
    {
     "name": "stdout",
     "output_type": "stream",
     "text": [
      "name: a; row.count: 100000000; used: 86.3% free: 1.62GB\n",
      "done sleeping <ForkProcess(ForkPoolWorker-3, started daemon)>\n",
      "name: b; row.count: 100000000; used: 87.3% free: 1.46GB\n",
      "done sleeping <ForkProcess(ForkPoolWorker-4, started daemon)>\n",
      "name: c; row.count: 100000000; used: 86.3% free: 1.62GB\n",
      "done sleeping <ForkProcess(ForkPoolWorker-5, started daemon)>\n",
      "name: d; row.count: 100000000; used: 88.5% free: 1.28GB\n",
      "done sleeping <ForkProcess(ForkPoolWorker-6, started daemon)>\n",
      "name: e; row.count: 100000000; used: 90.7% free: 0.96GB\n",
      "done sleeping <ForkProcess(ForkPoolWorker-3, started daemon)>\n",
      "name: f; row.count: 100000000; used: 79.6% free: 2.64GB\n",
      "done sleeping <ForkProcess(ForkPoolWorker-4, started daemon)>\n"
     ]
    }
   ],
   "source": [
    "parallelise_cols(action, df, num_processes=4)\n"
   ]
  },
  {
   "cell_type": "code",
   "execution_count": null,
   "metadata": {},
   "outputs": [],
   "source": []
  }
 ],
 "metadata": {
  "kernelspec": {
   "display_name": "dfauditor",
   "language": "python",
   "name": "dfauditor"
  },
  "language_info": {
   "codemirror_mode": {
    "name": "ipython",
    "version": 3
   },
   "file_extension": ".py",
   "mimetype": "text/x-python",
   "name": "python",
   "nbconvert_exporter": "python",
   "pygments_lexer": "ipython3",
   "version": "3.6.7"
  }
 },
 "nbformat": 4,
 "nbformat_minor": 2
}
